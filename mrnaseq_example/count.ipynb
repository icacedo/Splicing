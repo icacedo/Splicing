{
 "cells": [
  {
   "cell_type": "code",
   "execution_count": null,
   "id": "f0530d5d",
   "metadata": {},
   "outputs": [],
   "source": [
    "# comparing the number of reads mapped to exon junctions using subread and STAR\n",
    "# idk why there is a such a huge difference\n",
    "# for now, I'm just going to go with STAR"
   ]
  },
  {
   "cell_type": "code",
   "execution_count": 21,
   "id": "906a2bca",
   "metadata": {},
   "outputs": [
    {
     "name": "stdout",
     "output_type": "stream",
     "text": [
      "872\n"
     ]
    }
   ],
   "source": [
    "count = 0\n",
    "with open('testing/Subread_testing/subread.results.82.txt.jcounts') as file:\n",
    "    for line in file:\n",
    "        line = line.split('\\t') \n",
    "        count_str = line[8].rstrip()\n",
    "        try:\n",
    "            count_int = int(count_str)\n",
    "        except ValueError: continue\n",
    "        count += count_int\n",
    "print(count)"
   ]
  },
  {
   "cell_type": "code",
   "execution_count": 24,
   "id": "a7e4fb9a",
   "metadata": {},
   "outputs": [
    {
     "name": "stdout",
     "output_type": "stream",
     "text": [
      "2499\n"
     ]
    }
   ],
   "source": [
    "count = 0\n",
    "with open('testing/STAR_testing/results/STAR.82.SJ.out.tab') as file:\n",
    "    for line in file:\n",
    "        line = line.split('\\t')\n",
    "        count_str = line[8].rstrip()\n",
    "        count_int = int(count_str)\n",
    "        count += count_int\n",
    "print(count)"
   ]
  },
  {
   "cell_type": "code",
   "execution_count": 11,
   "id": "f87e085f",
   "metadata": {},
   "outputs": [
    {
     "name": "stdout",
     "output_type": "stream",
     "text": [
      "488\n"
     ]
    }
   ],
   "source": [
    "# this bed file was made with the bam file created by STAR (pretty sure, maybe run it again later)\n",
    "count = 0\n",
    "with open('testing/Subread_testing/subjunc_results.bam.junction.bed') as file:\n",
    "    for line in file:\n",
    "        line = line.split('\\t')\n",
    "        try:\n",
    "            count_int = int(line[4])\n",
    "        except IndexError: continue\n",
    "        count += count_int\n",
    "print(count)\n",
    "\n",
    "# it's different again lol"
   ]
  },
  {
   "cell_type": "code",
   "execution_count": null,
   "id": "fc24f13a",
   "metadata": {},
   "outputs": [],
   "source": []
  }
 ],
 "metadata": {
  "kernelspec": {
   "display_name": "Python 3 (ipykernel)",
   "language": "python",
   "name": "python3"
  },
  "language_info": {
   "codemirror_mode": {
    "name": "ipython",
    "version": 3
   },
   "file_extension": ".py",
   "mimetype": "text/x-python",
   "name": "python",
   "nbconvert_exporter": "python",
   "pygments_lexer": "ipython3",
   "version": "3.10.6"
  }
 },
 "nbformat": 4,
 "nbformat_minor": 5
}
