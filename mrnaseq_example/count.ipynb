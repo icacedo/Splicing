{
 "cells": [
  {
   "cell_type": "code",
   "execution_count": null,
   "id": "f0530d5d",
   "metadata": {},
   "outputs": [],
   "source": [
    "# comparing the number of reads mapped to exon junctions using subread and STAR\n",
    "# idk why there is a such a huge difference\n",
    "# for now, I'm just going to go with STAR bc it is the most conservative when i comes to mapping reads"
   ]
  },
  {
   "cell_type": "code",
   "execution_count": 7,
   "id": "406adaf0",
   "metadata": {},
   "outputs": [
    {
     "name": "stdout",
     "output_type": "stream",
     "text": [
      "932\n"
     ]
    }
   ],
   "source": [
    "# input was a .fastq file\n",
    "count = 0\n",
    "with open('testing/Subread_testing/sj_results/subjunc_results.bam.junction.bed') as file:\n",
    "    for line in file:\n",
    "        line = line.split('\\t')\n",
    "        try:\n",
    "            count_int = int(line[4])\n",
    "        except IndexError: continue\n",
    "        count += count_int\n",
    "print(count)"
   ]
  },
  {
   "cell_type": "code",
   "execution_count": 8,
   "id": "c9574176",
   "metadata": {},
   "outputs": [
    {
     "name": "stdout",
     "output_type": "stream",
     "text": [
      "0\n"
     ]
    }
   ],
   "source": [
    "# input was a bam file from subread-align\n",
    "count = 0\n",
    "with open('testing/Subread_testing/fc_results/counts.jcounts') as file:\n",
    "    for line in file:\n",
    "        line = line.split('\\t') \n",
    "        count_str = line[8].rstrip()\n",
    "        try:\n",
    "            count_int = int(count_str)\n",
    "        except ValueError: continue\n",
    "        count += count_int\n",
    "print(count)"
   ]
  },
  {
   "cell_type": "code",
   "execution_count": 9,
   "id": "906a2bca",
   "metadata": {},
   "outputs": [
    {
     "name": "stdout",
     "output_type": "stream",
     "text": [
      "678\n"
     ]
    }
   ],
   "source": [
    "# input was a sorted .bam file from STAR\n",
    "count = 0\n",
    "with open('testing/Subread_testing/fc_results/star.counts.jcounts') as file:\n",
    "    for line in file:\n",
    "        line = line.split('\\t') \n",
    "        count_str = line[8].rstrip()\n",
    "        try:\n",
    "            count_int = int(count_str)\n",
    "        except ValueError: continue\n",
    "        count += count_int\n",
    "print(count)"
   ]
  },
  {
   "cell_type": "code",
   "execution_count": 12,
   "id": "07269e1e",
   "metadata": {},
   "outputs": [
    {
     "name": "stdout",
     "output_type": "stream",
     "text": [
      "932\n"
     ]
    }
   ],
   "source": [
    "# input was a .bam file from subread-align\n",
    "count = 0\n",
    "with open('testing/Subread_testing/sj_results/sr_align_results.bam.junction.bed') as file:\n",
    "    for line in file:\n",
    "        line = line.split('\\t')\n",
    "        try:\n",
    "            count_int = int(line[4])\n",
    "        except IndexError: continue\n",
    "        count += count_int\n",
    "print(count)"
   ]
  },
  {
   "cell_type": "code",
   "execution_count": 13,
   "id": "f87e085f",
   "metadata": {},
   "outputs": [
    {
     "name": "stdout",
     "output_type": "stream",
     "text": [
      "488\n"
     ]
    }
   ],
   "source": [
    "# input was a sorted .bam file from STAR\n",
    "count = 0\n",
    "with open('testing/Subread_testing/sj_results/star_results.bam.junction.bed') as file:\n",
    "    for line in file:\n",
    "        line = line.split('\\t')\n",
    "        try:\n",
    "            count_int = int(line[4])\n",
    "        except IndexError: continue\n",
    "        count += count_int\n",
    "print(count)"
   ]
  },
  {
   "cell_type": "code",
   "execution_count": 16,
   "id": "3c4ea2e2",
   "metadata": {},
   "outputs": [
    {
     "name": "stdout",
     "output_type": "stream",
     "text": [
      "932\n"
     ]
    }
   ],
   "source": [
    "# input was a .sam file from HISAT2\n",
    "count = 0\n",
    "with open('testing/Subread_testing/sj_results/hisat2_results.bam.junction.bed') as file:\n",
    "    for line in file:\n",
    "        line = line.split('\\t')\n",
    "        try:\n",
    "            count_int = int(line[4])\n",
    "        except IndexError: continue\n",
    "        count += count_int\n",
    "print(count)"
   ]
  },
  {
   "cell_type": "code",
   "execution_count": 15,
   "id": "a7e4fb9a",
   "metadata": {},
   "outputs": [
    {
     "name": "stdout",
     "output_type": "stream",
     "text": [
      "2499\n"
     ]
    }
   ],
   "source": [
    "count = 0\n",
    "with open('testing/STAR_testing/results/STAR.SJ.out.tab') as file:\n",
    "    for line in file:\n",
    "        line = line.split('\\t')\n",
    "        count_str = line[8].rstrip()\n",
    "        count_int = int(count_str)\n",
    "        count += count_int\n",
    "print(count)"
   ]
  },
  {
   "cell_type": "code",
   "execution_count": null,
   "id": "2bfa84ae",
   "metadata": {},
   "outputs": [],
   "source": []
  },
  {
   "cell_type": "code",
   "execution_count": null,
   "id": "fc24f13a",
   "metadata": {},
   "outputs": [],
   "source": []
  }
 ],
 "metadata": {
  "kernelspec": {
   "display_name": "Python 3 (ipykernel)",
   "language": "python",
   "name": "python3"
  },
  "language_info": {
   "codemirror_mode": {
    "name": "ipython",
    "version": 3
   },
   "file_extension": ".py",
   "mimetype": "text/x-python",
   "name": "python",
   "nbconvert_exporter": "python",
   "pygments_lexer": "ipython3",
   "version": "3.10.6"
  }
 },
 "nbformat": 4,
 "nbformat_minor": 5
}
