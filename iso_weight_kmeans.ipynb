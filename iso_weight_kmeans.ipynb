{
 "cells": [
  {
   "cell_type": "code",
   "execution_count": 7,
   "id": "ae591171",
   "metadata": {},
   "outputs": [],
   "source": [
    "from sklearn.cluster import AgglomerativeClustering\n",
    "from sklearn.decomposition import PCA\n",
    "from sklearn import datasets\n",
    "import numpy as np\n",
    "import pandas as pd\n",
    "import matplotlib.pyplot as plt\n",
    "# code from:\n",
    "# https://www.codespeedy.com/implementation-of-agglomerative-clustering-with-scikit-learn/"
   ]
  },
  {
   "cell_type": "code",
   "execution_count": 39,
   "id": "eb04d0f5",
   "metadata": {
    "scrolled": true
   },
   "outputs": [
    {
     "data": {
      "text/html": [
       "<div>\n",
       "<style scoped>\n",
       "    .dataframe tbody tr th:only-of-type {\n",
       "        vertical-align: middle;\n",
       "    }\n",
       "\n",
       "    .dataframe tbody tr th {\n",
       "        vertical-align: top;\n",
       "    }\n",
       "\n",
       "    .dataframe thead th {\n",
       "        text-align: right;\n",
       "    }\n",
       "</style>\n",
       "<table border=\"1\" class=\"dataframe\">\n",
       "  <thead>\n",
       "    <tr style=\"text-align: right;\">\n",
       "      <th></th>\n",
       "      <th>don</th>\n",
       "      <th>acc</th>\n",
       "      <th>emm</th>\n",
       "      <th>imm</th>\n",
       "      <th>elen</th>\n",
       "      <th>ilen</th>\n",
       "      <th>cost</th>\n",
       "      <th>fit</th>\n",
       "    </tr>\n",
       "    <tr>\n",
       "      <th>seq</th>\n",
       "      <th></th>\n",
       "      <th></th>\n",
       "      <th></th>\n",
       "      <th></th>\n",
       "      <th></th>\n",
       "      <th></th>\n",
       "      <th></th>\n",
       "      <th></th>\n",
       "    </tr>\n",
       "  </thead>\n",
       "  <tbody>\n",
       "    <tr>\n",
       "      <th>ch.17439</th>\n",
       "      <td>45</td>\n",
       "      <td>36</td>\n",
       "      <td>53</td>\n",
       "      <td>36</td>\n",
       "      <td>53</td>\n",
       "      <td>63</td>\n",
       "      <td>29</td>\n",
       "      <td>0</td>\n",
       "    </tr>\n",
       "    <tr>\n",
       "      <th>ch.1828</th>\n",
       "      <td>64</td>\n",
       "      <td>21</td>\n",
       "      <td>52</td>\n",
       "      <td>37</td>\n",
       "      <td>48</td>\n",
       "      <td>69</td>\n",
       "      <td>62</td>\n",
       "      <td>0</td>\n",
       "    </tr>\n",
       "    <tr>\n",
       "      <th>ch.11658</th>\n",
       "      <td>37</td>\n",
       "      <td>27</td>\n",
       "      <td>54</td>\n",
       "      <td>52</td>\n",
       "      <td>44</td>\n",
       "      <td>48</td>\n",
       "      <td>4</td>\n",
       "      <td>33</td>\n",
       "    </tr>\n",
       "    <tr>\n",
       "      <th>ch.11741</th>\n",
       "      <td>54</td>\n",
       "      <td>47</td>\n",
       "      <td>58</td>\n",
       "      <td>39</td>\n",
       "      <td>61</td>\n",
       "      <td>59</td>\n",
       "      <td>91</td>\n",
       "      <td>0</td>\n",
       "    </tr>\n",
       "    <tr>\n",
       "      <th>ch.16148</th>\n",
       "      <td>48</td>\n",
       "      <td>28</td>\n",
       "      <td>55</td>\n",
       "      <td>40</td>\n",
       "      <td>30</td>\n",
       "      <td>53</td>\n",
       "      <td>56</td>\n",
       "      <td>0</td>\n",
       "    </tr>\n",
       "    <tr>\n",
       "      <th>...</th>\n",
       "      <td>...</td>\n",
       "      <td>...</td>\n",
       "      <td>...</td>\n",
       "      <td>...</td>\n",
       "      <td>...</td>\n",
       "      <td>...</td>\n",
       "      <td>...</td>\n",
       "      <td>...</td>\n",
       "    </tr>\n",
       "    <tr>\n",
       "      <th>ch.12079</th>\n",
       "      <td>53</td>\n",
       "      <td>33</td>\n",
       "      <td>76</td>\n",
       "      <td>71</td>\n",
       "      <td>35</td>\n",
       "      <td>50</td>\n",
       "      <td>20</td>\n",
       "      <td>4</td>\n",
       "    </tr>\n",
       "    <tr>\n",
       "      <th>ch.10141</th>\n",
       "      <td>36</td>\n",
       "      <td>31</td>\n",
       "      <td>54</td>\n",
       "      <td>37</td>\n",
       "      <td>46</td>\n",
       "      <td>57</td>\n",
       "      <td>18</td>\n",
       "      <td>8</td>\n",
       "    </tr>\n",
       "    <tr>\n",
       "      <th>ch.9920</th>\n",
       "      <td>49</td>\n",
       "      <td>16</td>\n",
       "      <td>57</td>\n",
       "      <td>48</td>\n",
       "      <td>27</td>\n",
       "      <td>49</td>\n",
       "      <td>14</td>\n",
       "      <td>33</td>\n",
       "    </tr>\n",
       "    <tr>\n",
       "      <th>ch.368</th>\n",
       "      <td>46</td>\n",
       "      <td>20</td>\n",
       "      <td>61</td>\n",
       "      <td>52</td>\n",
       "      <td>34</td>\n",
       "      <td>72</td>\n",
       "      <td>24</td>\n",
       "      <td>7</td>\n",
       "    </tr>\n",
       "    <tr>\n",
       "      <th>ch.9579</th>\n",
       "      <td>45</td>\n",
       "      <td>26</td>\n",
       "      <td>57</td>\n",
       "      <td>38</td>\n",
       "      <td>46</td>\n",
       "      <td>45</td>\n",
       "      <td>21</td>\n",
       "      <td>2</td>\n",
       "    </tr>\n",
       "  </tbody>\n",
       "</table>\n",
       "<p>683 rows × 8 columns</p>\n",
       "</div>"
      ],
      "text/plain": [
       "          don  acc  emm  imm  elen  ilen  cost  fit\n",
       "seq                                                \n",
       "ch.17439   45   36   53   36    53    63    29    0\n",
       "ch.1828    64   21   52   37    48    69    62    0\n",
       "ch.11658   37   27   54   52    44    48     4   33\n",
       "ch.11741   54   47   58   39    61    59    91    0\n",
       "ch.16148   48   28   55   40    30    53    56    0\n",
       "...       ...  ...  ...  ...   ...   ...   ...  ...\n",
       "ch.12079   53   33   76   71    35    50    20    4\n",
       "ch.10141   36   31   54   37    46    57    18    8\n",
       "ch.9920    49   16   57   48    27    49    14   33\n",
       "ch.368     46   20   61   52    34    72    24    7\n",
       "ch.9579    45   26   57   38    46    45    21    2\n",
       "\n",
       "[683 rows x 8 columns]"
      ]
     },
     "execution_count": 39,
     "metadata": {},
     "output_type": "execute_result"
    }
   ],
   "source": [
    "# 8 attributes, 718 records\n",
    "df = pd.read_csv('data/optiso_out/apc.tsv', sep='\\t')\n",
    "df = df.set_index('seq')\n",
    "df"
   ]
  },
  {
   "cell_type": "code",
   "execution_count": 38,
   "id": "91e292b5",
   "metadata": {},
   "outputs": [
    {
     "data": {
      "text/plain": [
       "array([[45, 36, 53, ..., 63, 29,  0],\n",
       "       [64, 21, 52, ..., 69, 62,  0],\n",
       "       [37, 27, 54, ..., 48,  4, 33],\n",
       "       ...,\n",
       "       [49, 16, 57, ..., 49, 14, 33],\n",
       "       [46, 20, 61, ..., 72, 24,  7],\n",
       "       [45, 26, 57, ..., 45, 21,  2]])"
      ]
     },
     "execution_count": 38,
     "metadata": {},
     "output_type": "execute_result"
    }
   ],
   "source": [
    "data = df.values\n",
    "data"
   ]
  },
  {
   "cell_type": "code",
   "execution_count": 23,
   "id": "ce63b2a0",
   "metadata": {},
   "outputs": [
    {
     "data": {
      "text/plain": [
       "<matplotlib.collections.PathCollection at 0x7fe01a95cd30>"
      ]
     },
     "execution_count": 23,
     "metadata": {},
     "output_type": "execute_result"
    },
    {
     "data": {
      "image/png": "[encoded data removed]",
      "text/plain": [
       "<Figure size 432x288 with 1 Axes>"
      ]
     },
     "metadata": {
      "needs_background": "light"
     },
     "output_type": "display_data"
    }
   ],
   "source": [
    "data1 = PCA(n_components=2).fit_transform(data)\n",
    "plt.scatter(data1[:,0],data1[:,1])"
   ]
  },
  {
   "cell_type": "code",
   "execution_count": 17,
   "id": "332e47ee",
   "metadata": {},
   "outputs": [
    {
     "data": {
      "text/plain": [
       "<matplotlib.collections.PathCollection at 0x7fe01ab9d100>"
      ]
     },
     "execution_count": 17,
     "metadata": {},
     "output_type": "execute_result"
    },
    {
     "data": {
      "image/png": "[encoded data removed]",
      "text/plain": [
       "<Figure size 432x288 with 1 Axes>"
      ]
     },
     "metadata": {
      "needs_background": "light"
     },
     "output_type": "display_data"
    }
   ],
   "source": [
    "data2 = PCA(n_components=4).fit_transform(data)\n",
    "plt.scatter(data2[:,0],data2[:,3])"
   ]
  },
  {
   "cell_type": "code",
   "execution_count": 21,
   "id": "eb8525e0",
   "metadata": {},
   "outputs": [
    {
     "data": {
      "text/plain": [
       "<matplotlib.collections.PathCollection at 0x7fe01aa1c640>"
      ]
     },
     "execution_count": 21,
     "metadata": {},
     "output_type": "execute_result"
    },
    {
     "data": {
      "image/png": "[encoded data removed]",
      "text/plain": [
       "<Figure size 432x288 with 1 Axes>"
      ]
     },
     "metadata": {
      "needs_background": "light"
     },
     "output_type": "display_data"
    }
   ],
   "source": [
    "data3 = PCA(n_components=8).fit_transform(data)\n",
    "plt.scatter(data3[:,0],data3[:,4])"
   ]
  },
  {
   "cell_type": "code",
   "execution_count": 5,
   "id": "f4b0e918",
   "metadata": {},
   "outputs": [
    {
     "data": {
      "text/plain": [
       "array([1, 3, 5])"
      ]
     },
     "execution_count": 5,
     "metadata": {},
     "output_type": "execute_result"
    }
   ],
   "source": [
    "d = np.array([[1,2],\n",
    "              [3,4],\n",
    "              [5,6]])\n",
    "d[:,0]"
   ]
  },
  {
   "cell_type": "code",
   "execution_count": 27,
   "id": "d669e889",
   "metadata": {},
   "outputs": [],
   "source": [
    "# you change the number of clusters you want to see here\n",
    "# does it always need a PCA with 2 components?\n",
    "# single linkage: distance between two clusters is the distance between their two closest points\n",
    "# complete linkage: between two farthest points\n",
    "classifier = AgglomerativeClustering(n_clusters = 3, affinity = 'euclidean', linkage = 'complete')\n",
    "clusters = classifier.fit_predict(data1)"
   ]
  },
  {
   "cell_type": "code",
   "execution_count": 31,
   "id": "957cb17a",
   "metadata": {},
   "outputs": [
    {
     "data": {
      "image/png": "[encoded data removed]",
      "text/plain": [
       "<Figure size 432x288 with 1 Axes>"
      ]
     },
     "metadata": {
      "needs_background": "light"
     },
     "output_type": "display_data"
    }
   ],
   "source": [
    "plt.scatter(data1[clusters == 0, 0], data1[clusters == 0, 1], label = 'Type1')\n",
    "plt.scatter(data1[clusters == 1, 0], data1[clusters == 1, 1], label = 'Type2')\n",
    "plt.scatter(data1[clusters == 2, 0], data1[clusters == 2, 1], label = 'Type3')\n",
    "#plt.scatter(data1[clusters == 0, 0], X[clusters == 0, 1], label = 'Type1')\n",
    "\n",
    "plt.title('Clusters')\n",
    "plt.show()"
   ]
  },
  {
   "cell_type": "code",
   "execution_count": 37,
   "id": "a4c97931",
   "metadata": {},
   "outputs": [
    {
     "data": {
      "image/png": "[encoded data removed]",
      "text/plain": [
       "<Figure size 432x288 with 1 Axes>"
      ]
     },
     "metadata": {
      "needs_background": "light"
     },
     "output_type": "display_data"
    },
    {
     "data": {
      "text/plain": [
       "array([ 5.12967573, 31.02097236, 12.48444693,  3.36547321, 21.28750393,\n",
       "       10.35738541,  4.33305145, 21.4428066 ,  3.05356441,  7.50856763,\n",
       "        0.64434197,  4.80346511,  0.95385674, 28.79673749,  1.52548768,\n",
       "       10.07041551, 36.49371872, 16.94572289, 17.81966273,  5.09604017,\n",
       "        7.20885758,  8.01238788,  2.81743968,  3.06151935, 15.71556788,\n",
       "       -0.43179698, 37.98694892, 11.32665665,  5.56664337,  5.89743161,\n",
       "       16.53505484, 21.25114426,  8.20268948,  6.09386415, 11.0853515 ,\n",
       "        9.36518691, 17.74500694,  0.35466849,  5.75259456, 17.51190836,\n",
       "       -1.28190042, 34.89714825, 10.46749436, 30.49150525,  7.46144467,\n",
       "       33.18107754,  7.91277395, 32.61262284,  1.65954813, -0.10702207,\n",
       "       20.88296224, 27.65795443,  0.29788443, 11.26160258, 32.20772402,\n",
       "       16.05447296, 11.1903692 ,  3.48487756,  6.15024438,  0.99317052,\n",
       "       26.51126583,  1.99208877, 26.3471223 , 11.6281623 , 28.48039927,\n",
       "        4.512676  ,  5.94316953,  7.05195353, 24.36775868,  3.20416084,\n",
       "       10.01314442, 20.74471387,  8.91078514,  9.76911352,  8.60717026,\n",
       "        0.15281778, 10.94462031,  2.12939398, 17.15358269,  7.38400233,\n",
       "       35.06049215,  5.71639607, 13.58013632, 10.65548586, 10.49219818,\n",
       "       34.83467307,  3.8735635 ,  7.12858254,  3.67897451, 10.66943758,\n",
       "        7.25018228, 31.08251626, 20.89127944, 45.57305222, -1.81333606,\n",
       "       15.1341738 ,  2.45548609, 14.98302143,  3.41111486, 17.44947067,\n",
       "        2.93860418,  3.88829356, 13.89534181,  5.16627307,  8.83949338,\n",
       "       25.24500479,  2.46337511,  5.7673279 , 30.78014936,  9.0117882 ,\n",
       "       19.71588601, 19.18818103,  3.61696077,  1.49438211, 30.901242  ,\n",
       "       24.88453094, 18.05442223,  7.49785612,  7.81847688, 28.98928514,\n",
       "       12.48046974, 26.72003786,  2.90240004,  9.93987104, 31.80040809,\n",
       "        6.28656925,  8.09467689,  9.69132706, -0.71236983, 19.44162561,\n",
       "       -1.44544616,  1.46186925,  0.38236761,  6.43031247, 13.58679774,\n",
       "       -0.27201855, 35.03861337, 16.9529558 ,  5.04299266, 17.94374136,\n",
       "       19.58137967, 14.23433315, 19.06480708,  2.11484723, 11.59482869,\n",
       "       21.91383746, 12.51238661, 23.84634586, 22.78939125,  0.99076986,\n",
       "       17.05424445, 20.7432273 , 48.06654902, 10.75990775, 13.06758483,\n",
       "       27.19893087, 14.97262456,  1.23501773, 28.59856993, -0.62290041,\n",
       "       37.43531067, 15.00712918, 21.84107692,  5.24714313,  0.5695445 ,\n",
       "        0.36876426, 15.22618649, 15.34135091,  6.83869378, 13.67665394,\n",
       "        3.20331837, 18.0584379 ,  4.16037449, -1.46030609, 23.11051833,\n",
       "        2.98576922,  4.83131644,  1.76355542, 17.25503298,  8.16777863,\n",
       "        1.89090495,  3.52987967, 20.87893475, 20.39127592, 20.53714877,\n",
       "        0.8416359 ,  2.81794537,  3.44891843,  9.7793752 , 18.88303228,\n",
       "        0.12932049, 15.27872329, 14.5657773 , -0.70775752])"
      ]
     },
     "execution_count": 37,
     "metadata": {},
     "output_type": "execute_result"
    }
   ],
   "source": [
    "classifier5 = AgglomerativeClustering(n_clusters = 5, affinity = 'euclidean', linkage = 'complete')\n",
    "clusters5 = classifier5.fit_predict(data1)\n",
    "plt.scatter(data2[clusters == 0, 0], data2[clusters == 0, 1], label = 'Type1')\n",
    "plt.scatter(data2[clusters == 1, 0], data2[clusters == 1, 1], label = 'Type2')\n",
    "plt.scatter(data2[clusters == 2, 0], data2[clusters == 2, 1], label = 'Type3')\n",
    "plt.scatter(data2[clusters == 3, 0], data2[clusters == 3, 1], label = 'Type4')\n",
    "plt.scatter(data2[clusters == 4, 0], data2[clusters == 4, 1], label = 'Type5')\n",
    "\n",
    "plt.title('Clusters')\n",
    "plt.show()\n",
    "data2[clusters == 2,1]"
   ]
  },
  {
   "cell_type": "code",
   "execution_count": 33,
   "id": "8a7abf27",
   "metadata": {},
   "outputs": [
    {
     "data": {
      "text/plain": [
       "{'data': array([[5.1, 3.5, 1.4, 0.2],\n",
       "        [4.9, 3. , 1.4, 0.2],\n",
       "        [4.7, 3.2, 1.3, 0.2],\n",
       "        [4.6, 3.1, 1.5, 0.2],\n",
       "        [5. , 3.6, 1.4, 0.2],\n",
       "        [5.4, 3.9, 1.7, 0.4],\n",
       "        [4.6, 3.4, 1.4, 0.3],\n",
       "        [5. , 3.4, 1.5, 0.2],\n",
       "        [4.4, 2.9, 1.4, 0.2],\n",
       "        [4.9, 3.1, 1.5, 0.1],\n",
       "        [5.4, 3.7, 1.5, 0.2],\n",
       "        [4.8, 3.4, 1.6, 0.2],\n",
       "        [4.8, 3. , 1.4, 0.1],\n",
       "        [4.3, 3. , 1.1, 0.1],\n",
       "        [5.8, 4. , 1.2, 0.2],\n",
       "        [5.7, 4.4, 1.5, 0.4],\n",
       "        [5.4, 3.9, 1.3, 0.4],\n",
       "        [5.1, 3.5, 1.4, 0.3],\n",
       "        [5.7, 3.8, 1.7, 0.3],\n",
       "        [5.1, 3.8, 1.5, 0.3],\n",
       "        [5.4, 3.4, 1.7, 0.2],\n",
       "        [5.1, 3.7, 1.5, 0.4],\n",
       "        [4.6, 3.6, 1. , 0.2],\n",
       "        [5.1, 3.3, 1.7, 0.5],\n",
       "        [4.8, 3.4, 1.9, 0.2],\n",
       "        [5. , 3. , 1.6, 0.2],\n",
       "        [5. , 3.4, 1.6, 0.4],\n",
       "        [5.2, 3.5, 1.5, 0.2],\n",
       "        [5.2, 3.4, 1.4, 0.2],\n",
       "        [4.7, 3.2, 1.6, 0.2],\n",
       "        [4.8, 3.1, 1.6, 0.2],\n",
       "        [5.4, 3.4, 1.5, 0.4],\n",
       "        [5.2, 4.1, 1.5, 0.1],\n",
       "        [5.5, 4.2, 1.4, 0.2],\n",
       "        [4.9, 3.1, 1.5, 0.2],\n",
       "        [5. , 3.2, 1.2, 0.2],\n",
       "        [5.5, 3.5, 1.3, 0.2],\n",
       "        [4.9, 3.6, 1.4, 0.1],\n",
       "        [4.4, 3. , 1.3, 0.2],\n",
       "        [5.1, 3.4, 1.5, 0.2],\n",
       "        [5. , 3.5, 1.3, 0.3],\n",
       "        [4.5, 2.3, 1.3, 0.3],\n",
       "        [4.4, 3.2, 1.3, 0.2],\n",
       "        [5. , 3.5, 1.6, 0.6],\n",
       "        [5.1, 3.8, 1.9, 0.4],\n",
       "        [4.8, 3. , 1.4, 0.3],\n",
       "        [5.1, 3.8, 1.6, 0.2],\n",
       "        [4.6, 3.2, 1.4, 0.2],\n",
       "        [5.3, 3.7, 1.5, 0.2],\n",
       "        [5. , 3.3, 1.4, 0.2],\n",
       "        [7. , 3.2, 4.7, 1.4],\n",
       "        [6.4, 3.2, 4.5, 1.5],\n",
       "        [6.9, 3.1, 4.9, 1.5],\n",
       "        [5.5, 2.3, 4. , 1.3],\n",
       "        [6.5, 2.8, 4.6, 1.5],\n",
       "        [5.7, 2.8, 4.5, 1.3],\n",
       "        [6.3, 3.3, 4.7, 1.6],\n",
       "        [4.9, 2.4, 3.3, 1. ],\n",
       "        [6.6, 2.9, 4.6, 1.3],\n",
       "        [5.2, 2.7, 3.9, 1.4],\n",
       "        [5. , 2. , 3.5, 1. ],\n",
       "        [5.9, 3. , 4.2, 1.5],\n",
       "        [6. , 2.2, 4. , 1. ],\n",
       "        [6.1, 2.9, 4.7, 1.4],\n",
       "        [5.6, 2.9, 3.6, 1.3],\n",
       "        [6.7, 3.1, 4.4, 1.4],\n",
       "        [5.6, 3. , 4.5, 1.5],\n",
       "        [5.8, 2.7, 4.1, 1. ],\n",
       "        [6.2, 2.2, 4.5, 1.5],\n",
       "        [5.6, 2.5, 3.9, 1.1],\n",
       "        [5.9, 3.2, 4.8, 1.8],\n",
       "        [6.1, 2.8, 4. , 1.3],\n",
       "        [6.3, 2.5, 4.9, 1.5],\n",
       "        [6.1, 2.8, 4.7, 1.2],\n",
       "        [6.4, 2.9, 4.3, 1.3],\n",
       "        [6.6, 3. , 4.4, 1.4],\n",
       "        [6.8, 2.8, 4.8, 1.4],\n",
       "        [6.7, 3. , 5. , 1.7],\n",
       "        [6. , 2.9, 4.5, 1.5],\n",
       "        [5.7, 2.6, 3.5, 1. ],\n",
       "        [5.5, 2.4, 3.8, 1.1],\n",
       "        [5.5, 2.4, 3.7, 1. ],\n",
       "        [5.8, 2.7, 3.9, 1.2],\n",
       "        [6. , 2.7, 5.1, 1.6],\n",
       "        [5.4, 3. , 4.5, 1.5],\n",
       "        [6. , 3.4, 4.5, 1.6],\n",
       "        [6.7, 3.1, 4.7, 1.5],\n",
       "        [6.3, 2.3, 4.4, 1.3],\n",
       "        [5.6, 3. , 4.1, 1.3],\n",
       "        [5.5, 2.5, 4. , 1.3],\n",
       "        [5.5, 2.6, 4.4, 1.2],\n",
       "        [6.1, 3. , 4.6, 1.4],\n",
       "        [5.8, 2.6, 4. , 1.2],\n",
       "        [5. , 2.3, 3.3, 1. ],\n",
       "        [5.6, 2.7, 4.2, 1.3],\n",
       "        [5.7, 3. , 4.2, 1.2],\n",
       "        [5.7, 2.9, 4.2, 1.3],\n",
       "        [6.2, 2.9, 4.3, 1.3],\n",
       "        [5.1, 2.5, 3. , 1.1],\n",
       "        [5.7, 2.8, 4.1, 1.3],\n",
       "        [6.3, 3.3, 6. , 2.5],\n",
       "        [5.8, 2.7, 5.1, 1.9],\n",
       "        [7.1, 3. , 5.9, 2.1],\n",
       "        [6.3, 2.9, 5.6, 1.8],\n",
       "        [6.5, 3. , 5.8, 2.2],\n",
       "        [7.6, 3. , 6.6, 2.1],\n",
       "        [4.9, 2.5, 4.5, 1.7],\n",
       "        [7.3, 2.9, 6.3, 1.8],\n",
       "        [6.7, 2.5, 5.8, 1.8],\n",
       "        [7.2, 3.6, 6.1, 2.5],\n",
       "        [6.5, 3.2, 5.1, 2. ],\n",
       "        [6.4, 2.7, 5.3, 1.9],\n",
       "        [6.8, 3. , 5.5, 2.1],\n",
       "        [5.7, 2.5, 5. , 2. ],\n",
       "        [5.8, 2.8, 5.1, 2.4],\n",
       "        [6.4, 3.2, 5.3, 2.3],\n",
       "        [6.5, 3. , 5.5, 1.8],\n",
       "        [7.7, 3.8, 6.7, 2.2],\n",
       "        [7.7, 2.6, 6.9, 2.3],\n",
       "        [6. , 2.2, 5. , 1.5],\n",
       "        [6.9, 3.2, 5.7, 2.3],\n",
       "        [5.6, 2.8, 4.9, 2. ],\n",
       "        [7.7, 2.8, 6.7, 2. ],\n",
       "        [6.3, 2.7, 4.9, 1.8],\n",
       "        [6.7, 3.3, 5.7, 2.1],\n",
       "        [7.2, 3.2, 6. , 1.8],\n",
       "        [6.2, 2.8, 4.8, 1.8],\n",
       "        [6.1, 3. , 4.9, 1.8],\n",
       "        [6.4, 2.8, 5.6, 2.1],\n",
       "        [7.2, 3. , 5.8, 1.6],\n",
       "        [7.4, 2.8, 6.1, 1.9],\n",
       "        [7.9, 3.8, 6.4, 2. ],\n",
       "        [6.4, 2.8, 5.6, 2.2],\n",
       "        [6.3, 2.8, 5.1, 1.5],\n",
       "        [6.1, 2.6, 5.6, 1.4],\n",
       "        [7.7, 3. , 6.1, 2.3],\n",
       "        [6.3, 3.4, 5.6, 2.4],\n",
       "        [6.4, 3.1, 5.5, 1.8],\n",
       "        [6. , 3. , 4.8, 1.8],\n",
       "        [6.9, 3.1, 5.4, 2.1],\n",
       "        [6.7, 3.1, 5.6, 2.4],\n",
       "        [6.9, 3.1, 5.1, 2.3],\n",
       "        [5.8, 2.7, 5.1, 1.9],\n",
       "        [6.8, 3.2, 5.9, 2.3],\n",
       "        [6.7, 3.3, 5.7, 2.5],\n",
       "        [6.7, 3. , 5.2, 2.3],\n",
       "        [6.3, 2.5, 5. , 1.9],\n",
       "        [6.5, 3. , 5.2, 2. ],\n",
       "        [6.2, 3.4, 5.4, 2.3],\n",
       "        [5.9, 3. , 5.1, 1.8]]),\n",
       " 'target': array([0, 0, 0, 0, 0, 0, 0, 0, 0, 0, 0, 0, 0, 0, 0, 0, 0, 0, 0, 0, 0, 0,\n",
       "        0, 0, 0, 0, 0, 0, 0, 0, 0, 0, 0, 0, 0, 0, 0, 0, 0, 0, 0, 0, 0, 0,\n",
       "        0, 0, 0, 0, 0, 0, 1, 1, 1, 1, 1, 1, 1, 1, 1, 1, 1, 1, 1, 1, 1, 1,\n",
       "        1, 1, 1, 1, 1, 1, 1, 1, 1, 1, 1, 1, 1, 1, 1, 1, 1, 1, 1, 1, 1, 1,\n",
       "        1, 1, 1, 1, 1, 1, 1, 1, 1, 1, 1, 1, 2, 2, 2, 2, 2, 2, 2, 2, 2, 2,\n",
       "        2, 2, 2, 2, 2, 2, 2, 2, 2, 2, 2, 2, 2, 2, 2, 2, 2, 2, 2, 2, 2, 2,\n",
       "        2, 2, 2, 2, 2, 2, 2, 2, 2, 2, 2, 2, 2, 2, 2, 2, 2, 2]),\n",
       " 'frame': None,\n",
       " 'target_names': array(['setosa', 'versicolor', 'virginica'], dtype='<U10'),\n",
       " 'DESCR': '.. _iris_dataset:\\n\\nIris plants dataset\\n--------------------\\n\\n**Data Set Characteristics:**\\n\\n    :Number of Instances: 150 (50 in each of three classes)\\n    :Number of Attributes: 4 numeric, predictive attributes and the class\\n    :Attribute Information:\\n        - sepal length in cm\\n        - sepal width in cm\\n        - petal length in cm\\n        - petal width in cm\\n        - class:\\n                - Iris-Setosa\\n                - Iris-Versicolour\\n                - Iris-Virginica\\n                \\n    :Summary Statistics:\\n\\n    ============== ==== ==== ======= ===== ====================\\n                    Min  Max   Mean    SD   Class Correlation\\n    ============== ==== ==== ======= ===== ====================\\n    sepal length:   4.3  7.9   5.84   0.83    0.7826\\n    sepal width:    2.0  4.4   3.05   0.43   -0.4194\\n    petal length:   1.0  6.9   3.76   1.76    0.9490  (high!)\\n    petal width:    0.1  2.5   1.20   0.76    0.9565  (high!)\\n    ============== ==== ==== ======= ===== ====================\\n\\n    :Missing Attribute Values: None\\n    :Class Distribution: 33.3% for each of 3 classes.\\n    :Creator: R.A. Fisher\\n    :Donor: Michael Marshall (MARSHALL%PLU@io.arc.nasa.gov)\\n    :Date: July, 1988\\n\\nThe famous Iris database, first used by Sir R.A. Fisher. The dataset is taken\\nfrom Fisher\\'s paper. Note that it\\'s the same as in R, but not as in the UCI\\nMachine Learning Repository, which has two wrong data points.\\n\\nThis is perhaps the best known database to be found in the\\npattern recognition literature.  Fisher\\'s paper is a classic in the field and\\nis referenced frequently to this day.  (See Duda & Hart, for example.)  The\\ndata set contains 3 classes of 50 instances each, where each class refers to a\\ntype of iris plant.  One class is linearly separable from the other 2; the\\nlatter are NOT linearly separable from each other.\\n\\n.. topic:: References\\n\\n   - Fisher, R.A. \"The use of multiple measurements in taxonomic problems\"\\n     Annual Eugenics, 7, Part II, 179-188 (1936); also in \"Contributions to\\n     Mathematical Statistics\" (John Wiley, NY, 1950).\\n   - Duda, R.O., & Hart, P.E. (1973) Pattern Classification and Scene Analysis.\\n     (Q327.D83) John Wiley & Sons.  ISBN 0-471-22361-1.  See page 218.\\n   - Dasarathy, B.V. (1980) \"Nosing Around the Neighborhood: A New System\\n     Structure and Classification Rule for Recognition in Partially Exposed\\n     Environments\".  IEEE Transactions on Pattern Analysis and Machine\\n     Intelligence, Vol. PAMI-2, No. 1, 67-71.\\n   - Gates, G.W. (1972) \"The Reduced Nearest Neighbor Rule\".  IEEE Transactions\\n     on Information Theory, May 1972, 431-433.\\n   - See also: 1988 MLC Proceedings, 54-64.  Cheeseman et al\"s AUTOCLASS II\\n     conceptual clustering system finds 3 classes in the data.\\n   - Many, many more ...',\n",
       " 'feature_names': ['sepal length (cm)',\n",
       "  'sepal width (cm)',\n",
       "  'petal length (cm)',\n",
       "  'petal width (cm)'],\n",
       " 'filename': '/home/ismael/miniconda3/envs/splice/lib/python3.9/site-packages/sklearn/datasets/data/iris.csv'}"
      ]
     },
     "execution_count": 33,
     "metadata": {},
     "output_type": "execute_result"
    }
   ],
   "source": [
    "iris = datasets.load_iris()\n",
    "iris"
   ]
  },
  {
   "cell_type": "code",
   "execution_count": null,
   "id": "fd71f02e",
   "metadata": {},
   "outputs": [],
   "source": []
  }
 ],
 "metadata": {
  "kernelspec": {
   "display_name": "Python 3 (ipykernel)",
   "language": "python",
   "name": "python3"
  },
  "language_info": {
   "codemirror_mode": {
    "name": "ipython",
    "version": 3
   },
   "file_extension": ".py",
   "mimetype": "text/x-python",
   "name": "python",
   "nbconvert_exporter": "python",
   "pygments_lexer": "ipython3",
   "version": "3.9.10"
  }
 },
 "nbformat": 4,
 "nbformat_minor": 5
}
