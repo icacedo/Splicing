{
 "cells": [
  {
   "cell_type": "code",
   "execution_count": 80,
   "id": "f1fce1f4",
   "metadata": {},
   "outputs": [],
   "source": [
    "import numpy as np\n",
    "import pandas as pd\n",
    "import matplotlib.pyplot as plt\n",
    "from scipy.optimize import curve_fit\n",
    "import math"
   ]
  },
  {
   "cell_type": "code",
   "execution_count": 81,
   "id": "604107cd",
   "metadata": {},
   "outputs": [],
   "source": [
    "df = pandas.read_csv('test.csv', header=None)"
   ]
  },
  {
   "cell_type": "code",
   "execution_count": 82,
   "id": "52985623",
   "metadata": {},
   "outputs": [],
   "source": [
    "x = df[0].to_list()\n",
    "y = df[1].to_list()\n",
    "# uses frechet extreme value distribution\n",
    "# https://academic.oup.com/bioinformatics/article/34/19/3258/4990825\n",
    "# try scipy.stats.genextreme\n",
    "# https://www.geeksforgeeks.org/scipy-stats-genextreme-python/\n",
    "# https://stackoverflow.com/questions/43411581/fitting-data-to-a-generalized-extreme-value-distribution"
   ]
  },
  {
   "cell_type": "code",
   "execution_count": 92,
   "id": "29c30944",
   "metadata": {},
   "outputs": [],
   "source": [
    "# http://amid.fish/humble-gumbel\n",
    "# need to convert my data to probabilities\n",
    "def gumbel_pdf(prob, loc, scale):\n",
    "    z = (prob - loc) / scale\n",
    "    return exp(-z - exp(-z)) / scale"
   ]
  },
  {
   "cell_type": "code",
   "execution_count": null,
   "id": "e02fbe52",
   "metadata": {},
   "outputs": [],
   "source": [
    "# this might work\n",
    "# https://openturns.github.io/openturns/latest/auto_data_analysis/distribution_fitting/plot_fit_extreme_value_distribution.html"
   ]
  },
  {
   "cell_type": "code",
   "execution_count": null,
   "id": "27f067f0",
   "metadata": {},
   "outputs": [],
   "source": []
  },
  {
   "cell_type": "code",
   "execution_count": null,
   "id": "77109c6f",
   "metadata": {},
   "outputs": [],
   "source": []
  },
  {
   "cell_type": "code",
   "execution_count": 79,
   "id": "2d978f6f",
   "metadata": {},
   "outputs": [
    {
     "data": {
      "image/png": "[encoded data removed]",
      "text/plain": [
       "<Figure size 640x480 with 1 Axes>"
      ]
     },
     "metadata": {},
     "output_type": "display_data"
    }
   ],
   "source": [
    "a_opt, b_opt, c_opt, d_opt = popt\n",
    "x_model = np.linspace(min(x), max(y))\n",
    "y_model = model_f(x_model, a_opt, b_opt, c_opt, d_opt)\n",
    "plt.scatter(x, y)\n",
    "plt.plot(x_model, y_model, color='r')\n",
    "plt.show()"
   ]
  },
  {
   "cell_type": "code",
   "execution_count": null,
   "id": "89f1aa06",
   "metadata": {},
   "outputs": [],
   "source": []
  },
  {
   "cell_type": "code",
   "execution_count": 51,
   "id": "cd11ffdb",
   "metadata": {},
   "outputs": [
    {
     "data": {
      "image/png": "[encoded data removed]",
      "text/plain": [
       "<Figure size 640x480 with 1 Axes>"
      ]
     },
     "metadata": {},
     "output_type": "display_data"
    }
   ],
   "source": [
    "x_data = np.array([ 0.23547456, 0.15789474, 0.31578947, 0.47368421, 0.63157895, \n",
    "                   0.78947368, 0.94736842, 1.10526316, 1.26315789, 1.42105263, \n",
    "                   1.57894737, 1.73684211, 1.89473684, 2.05263158, 2.21052632, \n",
    "                   2.36842105, 2.52631579, 2.68421053, 2.84210526, 3.45454545 ])\n",
    "y_data = np.array([ 2.95258285, 2.49719803, -2.1984975, -4.88744346, -7.41326345, \n",
    "                   -8.44574157, -10.01878504, -13.83743553, -12.91548145, -15.41149046, \n",
    "                   -14.93516299, -13.42514157, -14.12110495, -17.6412464 , -16.1275509 , \n",
    "                   -16.11533771, -15.66076021, -13.48938865, -11.33918701, -11.70467566])\n",
    " \n",
    "plt.scatter(x_data , y_data)\n",
    "plt.show()"
   ]
  },
  {
   "cell_type": "code",
   "execution_count": 52,
   "id": "2b29ea0e",
   "metadata": {},
   "outputs": [],
   "source": [
    "def model_f(x,a,b,c):\n",
    "    return a*(x-b)**2+c\n",
    "\n",
    "popt, pcov = curve_fit(model_f, x_data, y_data, p0=[3,2,-16])"
   ]
  },
  {
   "cell_type": "code",
   "execution_count": 53,
   "id": "ff5b58e6",
   "metadata": {},
   "outputs": [
    {
     "data": {
      "text/plain": [
       "array([  4.34571181,   2.16288856, -16.22482919])"
      ]
     },
     "execution_count": 53,
     "metadata": {},
     "output_type": "execute_result"
    }
   ],
   "source": [
    "popt"
   ]
  },
  {
   "cell_type": "code",
   "execution_count": 54,
   "id": "63dd8905",
   "metadata": {},
   "outputs": [
    {
     "data": {
      "text/plain": [
       "array([[ 0.19937578, -0.02405734, -0.1215353 ],\n",
       "       [-0.02405734,  0.00517302,  0.00226607],\n",
       "       [-0.1215353 ,  0.00226607,  0.29163784]])"
      ]
     },
     "execution_count": 54,
     "metadata": {},
     "output_type": "execute_result"
    }
   ],
   "source": [
    "pcov"
   ]
  },
  {
   "cell_type": "code",
   "execution_count": null,
   "id": "d7bb9b01",
   "metadata": {},
   "outputs": [],
   "source": []
  }
 ],
 "metadata": {
  "kernelspec": {
   "display_name": "Python 3 (ipykernel)",
   "language": "python",
   "name": "python3"
  },
  "language_info": {
   "codemirror_mode": {
    "name": "ipython",
    "version": 3
   },
   "file_extension": ".py",
   "mimetype": "text/x-python",
   "name": "python",
   "nbconvert_exporter": "python",
   "pygments_lexer": "ipython3",
   "version": "3.11.2"
  }
 },
 "nbformat": 4,
 "nbformat_minor": 5
}
