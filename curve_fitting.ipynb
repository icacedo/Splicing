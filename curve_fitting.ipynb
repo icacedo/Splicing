{
 "cells": [
  {
   "cell_type": "code",
   "execution_count": 4,
   "id": "f1fce1f4",
   "metadata": {},
   "outputs": [],
   "source": [
    "import numpy as np\n",
    "import pandas as pd\n",
    "import matplotlib.pyplot as plt\n",
    "from scipy.optimize import curve_fit\n",
    "import math\n",
    "import openturns as ot\n",
    "import openturns.viewer as viewer"
   ]
  },
  {
   "cell_type": "code",
   "execution_count": 6,
   "id": "604107cd",
   "metadata": {},
   "outputs": [],
   "source": [
    "df = pd.read_csv('test.csv', header=None)"
   ]
  },
  {
   "cell_type": "code",
   "execution_count": 50,
   "id": "52985623",
   "metadata": {},
   "outputs": [
    {
     "name": "stdout",
     "output_type": "stream",
     "text": [
      "[0, 1, 2, 3, 4, 5, 6, 7, 8, 9, 10, 11, 12, 13]\n",
      "[0.0, 0.2857142857142857, 0.6666666666666666, 1.3333333333333333, 1.6666666666666667, 1.5555555555555556, 1.0, 0.7777777777777778, 0.7777777777777778, 1.0, 0.6666666666666666, 0.4444444444444444, 0.25, 0.5]\n"
     ]
    }
   ],
   "source": [
    "x = df[0].to_list()\n",
    "y = df[1].to_list()\n",
    "print(x)\n",
    "print(y)\n",
    "# uses frechet extreme value distribution\n",
    "# https://academic.oup.com/bioinformatics/article/34/19/3258/4990825\n",
    "# try scipy.stats.genextreme\n",
    "# https://www.geeksforgeeks.org/scipy-stats-genextreme-python/\n",
    "# https://stackoverflow.com/questions/43411581/fitting-data-to-a-generalized-extreme-value-distribution"
   ]
  },
  {
   "cell_type": "code",
   "execution_count": 8,
   "id": "29c30944",
   "metadata": {},
   "outputs": [],
   "source": [
    "# http://amid.fish/humble-gumbel\n",
    "# need to convert my data to probabilities\n",
    "def gumbel_pdf(prob, loc, scale):\n",
    "    z = (prob - loc) / scale\n",
    "    return exp(-z - exp(-z)) / scale"
   ]
  },
  {
   "cell_type": "code",
   "execution_count": 9,
   "id": "e02fbe52",
   "metadata": {},
   "outputs": [],
   "source": [
    "# this might work\n",
    "# https://openturns.github.io/openturns/latest/auto_data_analysis/distribution_fitting/plot_fit_extreme_value_distribution.html"
   ]
  },
  {
   "cell_type": "code",
   "execution_count": 13,
   "id": "27f067f0",
   "metadata": {},
   "outputs": [],
   "source": [
    "ot.Log.Show(ot.Log.NONE)"
   ]
  },
  {
   "cell_type": "code",
   "execution_count": 14,
   "id": "77109c6f",
   "metadata": {},
   "outputs": [],
   "source": [
    "ot.RandomGenerator.SetSeed(0)"
   ]
  },
  {
   "cell_type": "code",
   "execution_count": null,
   "id": "2d978f6f",
   "metadata": {},
   "outputs": [],
   "source": [
    "myGumbel = ot.Gumbel(1.0, 3.0)\n",
    "myFrechet = ot.Frechet(1.0, 1.0, 0.0)"
   ]
  },
  {
   "cell_type": "code",
   "execution_count": null,
   "id": "89f1aa06",
   "metadata": {},
   "outputs": [],
   "source": [
    "# try fitting this\n",
    "# https://www.itl.nist.gov/div898/handbook/eda/section3/eda366g.htm"
   ]
  },
  {
   "cell_type": "code",
   "execution_count": 35,
   "id": "cd11ffdb",
   "metadata": {},
   "outputs": [],
   "source": [
    "# https://machinelearningmastery.com/curve-fitting-with-python/"
   ]
  },
  {
   "cell_type": "code",
   "execution_count": 23,
   "id": "2b29ea0e",
   "metadata": {},
   "outputs": [],
   "source": [
    "def objective(x, alpha, beta):\n",
    "    e = math.e\n",
    "    z = (x-alpha)/beta\n",
    "    return (1/beta) * e**(z - e**z)"
   ]
  },
  {
   "cell_type": "code",
   "execution_count": 24,
   "id": "ff5b58e6",
   "metadata": {},
   "outputs": [],
   "source": [
    "popt, _ = curve_fit(objective, x, y)"
   ]
  },
  {
   "cell_type": "code",
   "execution_count": 25,
   "id": "63dd8905",
   "metadata": {},
   "outputs": [],
   "source": [
    "alpha, beta = popt"
   ]
  },
  {
   "cell_type": "code",
   "execution_count": 34,
   "id": "1cf84cf2",
   "metadata": {},
   "outputs": [
    {
     "data": {
      "image/png": "[encoded data removed]",
      "text/plain": [
       "<Figure size 640x480 with 1 Axes>"
      ]
     },
     "metadata": {},
     "output_type": "display_data"
    }
   ],
   "source": [
    "plt.scatter(x,y)\n",
    "x_line = np.arange(min(x), max(x), 1)\n",
    "y_line = objective(x_line, alpha, beta)\n",
    "plt.plot(x_line, y_line, '--', color='red')\n",
    "plt.show()"
   ]
  },
  {
   "cell_type": "code",
   "execution_count": null,
   "id": "d7bb9b01",
   "metadata": {},
   "outputs": [],
   "source": [
    "# http://amid.fish/humble-gumbel"
   ]
  },
  {
   "cell_type": "code",
   "execution_count": 52,
   "id": "5b847c67",
   "metadata": {},
   "outputs": [
    {
     "name": "stdout",
     "output_type": "stream",
     "text": [
      "[0, 1, 2, 3, 4, 5, 6, 7, 8, 9, 10, 11, 12, 13]\n",
      "[0.0, 0.2857142857142857, 0.6666666666666666, 1.3333333333333333, 1.6666666666666667, 1.5555555555555556, 1.0, 0.7777777777777778, 0.7777777777777778, 1.0, 0.6666666666666666, 0.4444444444444444, 0.25, 0.5]\n"
     ]
    }
   ],
   "source": [
    "print(x)\n",
    "print(y)"
   ]
  },
  {
   "cell_type": "code",
   "execution_count": 59,
   "id": "69d4e627",
   "metadata": {},
   "outputs": [
    {
     "data": {
      "image/png": "[encoded data removed]",
      "text/plain": [
       "<Figure size 640x480 with 1 Axes>"
      ]
     },
     "metadata": {},
     "output_type": "display_data"
    }
   ],
   "source": [
    "plt.hist(y)\n",
    "plt.show()"
   ]
  },
  {
   "cell_type": "code",
   "execution_count": null,
   "id": "b256e730",
   "metadata": {},
   "outputs": [],
   "source": []
  },
  {
   "cell_type": "code",
   "execution_count": null,
   "id": "ae5e4253",
   "metadata": {},
   "outputs": [],
   "source": []
  }
 ],
 "metadata": {
  "kernelspec": {
   "display_name": "Python 3 (ipykernel)",
   "language": "python",
   "name": "python3"
  },
  "language_info": {
   "codemirror_mode": {
    "name": "ipython",
    "version": 3
   },
   "file_extension": ".py",
   "mimetype": "text/x-python",
   "name": "python",
   "nbconvert_exporter": "python",
   "pygments_lexer": "ipython3",
   "version": "3.11.2"
  }
 },
 "nbformat": 4,
 "nbformat_minor": 5
}
