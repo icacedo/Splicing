{
 "cells": [
  {
   "cell_type": "code",
   "execution_count": 1,
   "id": "900d6330",
   "metadata": {},
   "outputs": [],
   "source": [
    "import pandas as pd\n",
    "import matplotlib.pyplot as plt"
   ]
  },
  {
   "cell_type": "code",
   "execution_count": 3,
   "id": "c08c0803",
   "metadata": {},
   "outputs": [],
   "source": [
    "intlines = []\n",
    "with open('arch/data/intron.txt', 'r') as fp:\n",
    "    for line in fp.readlines():\n",
    "        line = line.rstrip()\n",
    "        intlines.append(line)"
   ]
  },
  {
   "cell_type": "code",
   "execution_count": 24,
   "id": "6a7c9b25",
   "metadata": {},
   "outputs": [],
   "source": [
    "m = 50\n",
    "maxlen = 200\n",
    "\n",
    "intsizes = []\n",
    "for size in intlines:\n",
    "    intsizes.append(len(size))\n",
    "\n",
    "intbins = [0 for x in range(max(intsizes))]\n",
    "\n",
    "for i in range(len(intsizes)):\n",
    "    intbins[intsizes[i]-1] += 1"
   ]
  },
  {
   "cell_type": "code",
   "execution_count": 25,
   "id": "6a2dc177",
   "metadata": {},
   "outputs": [],
   "source": [
    "m2 = int((m/2) + 0.5 - 1)\n",
    "count = 0\n",
    "smoodata = []\n",
    "for i in range(len(intbins)):\n",
    "    inx = i-m2\n",
    "    if inx < 0:\n",
    "        inx = 0\n",
    "    bef = intbins[inx:i]\n",
    "    now = intbins[i]\n",
    "    aft = intbins[i+1:i+m2+1]\n",
    "    nowx = now * (m2 + 1)\n",
    "    tbefx = 0\n",
    "    cbefx = 0\n",
    "    for j in range(len(bef)):\n",
    "        coefb = m2 - 1 + j\n",
    "        befx = bef[j] * coefb\n",
    "        tbefx += befx\n",
    "        cbefx += coefb\n",
    "    taftx = 0\n",
    "    caftx = 0\n",
    "    for k in range(len(aft)):\n",
    "        coefa = m2 - k\n",
    "        aftx = aft[k] * coefa\n",
    "        taftx += aftx\n",
    "        caftx += coefa\n",
    "    total_coef = (m2 + 1) + cbefx + caftx\n",
    "    total = nowx + tbefx + taftx\n",
    "    smoopt = total/total_coef\n",
    "    count += 1\n",
    "    if count <= maxlen:\n",
    "        smoodata.append(smoopt)"
   ]
  },
  {
   "cell_type": "code",
   "execution_count": 26,
   "id": "da180c3b",
   "metadata": {},
   "outputs": [
    {
     "data": {
      "text/html": [
       "<div>\n",
       "<style scoped>\n",
       "    .dataframe tbody tr th:only-of-type {\n",
       "        vertical-align: middle;\n",
       "    }\n",
       "\n",
       "    .dataframe tbody tr th {\n",
       "        vertical-align: top;\n",
       "    }\n",
       "\n",
       "    .dataframe thead th {\n",
       "        text-align: right;\n",
       "    }\n",
       "</style>\n",
       "<table border=\"1\" class=\"dataframe\">\n",
       "  <thead>\n",
       "    <tr style=\"text-align: right;\">\n",
       "      <th></th>\n",
       "      <th>counts</th>\n",
       "      <th>length</th>\n",
       "    </tr>\n",
       "  </thead>\n",
       "  <tbody>\n",
       "    <tr>\n",
       "      <th>0</th>\n",
       "      <td>0.000000</td>\n",
       "      <td>0</td>\n",
       "    </tr>\n",
       "    <tr>\n",
       "      <th>1</th>\n",
       "      <td>0.000000</td>\n",
       "      <td>1</td>\n",
       "    </tr>\n",
       "    <tr>\n",
       "      <th>2</th>\n",
       "      <td>0.000000</td>\n",
       "      <td>2</td>\n",
       "    </tr>\n",
       "    <tr>\n",
       "      <th>3</th>\n",
       "      <td>0.000000</td>\n",
       "      <td>3</td>\n",
       "    </tr>\n",
       "    <tr>\n",
       "      <th>4</th>\n",
       "      <td>0.000000</td>\n",
       "      <td>4</td>\n",
       "    </tr>\n",
       "    <tr>\n",
       "      <th>...</th>\n",
       "      <td>...</td>\n",
       "      <td>...</td>\n",
       "    </tr>\n",
       "    <tr>\n",
       "      <th>195</th>\n",
       "      <td>7.052905</td>\n",
       "      <td>195</td>\n",
       "    </tr>\n",
       "    <tr>\n",
       "      <th>196</th>\n",
       "      <td>7.058109</td>\n",
       "      <td>196</td>\n",
       "    </tr>\n",
       "    <tr>\n",
       "      <th>197</th>\n",
       "      <td>7.192541</td>\n",
       "      <td>197</td>\n",
       "    </tr>\n",
       "    <tr>\n",
       "      <th>198</th>\n",
       "      <td>7.246314</td>\n",
       "      <td>198</td>\n",
       "    </tr>\n",
       "    <tr>\n",
       "      <th>199</th>\n",
       "      <td>7.227233</td>\n",
       "      <td>199</td>\n",
       "    </tr>\n",
       "  </tbody>\n",
       "</table>\n",
       "<p>200 rows × 2 columns</p>\n",
       "</div>"
      ],
      "text/plain": [
       "       counts  length\n",
       "0    0.000000       0\n",
       "1    0.000000       1\n",
       "2    0.000000       2\n",
       "3    0.000000       3\n",
       "4    0.000000       4\n",
       "..        ...     ...\n",
       "195  7.052905     195\n",
       "196  7.058109     196\n",
       "197  7.192541     197\n",
       "198  7.246314     198\n",
       "199  7.227233     199\n",
       "\n",
       "[200 rows x 2 columns]"
      ]
     },
     "execution_count": 26,
     "metadata": {},
     "output_type": "execute_result"
    }
   ],
   "source": [
    "df = pd.DataFrame(smoodata)\n",
    "df.insert(1, 'length', [x for x in range(len(smoodata))])\n",
    "df2 = df.rename(columns={0: 'counts'})\n",
    "df2"
   ]
  },
  {
   "cell_type": "code",
   "execution_count": 27,
   "id": "46cb3e84",
   "metadata": {},
   "outputs": [
    {
     "data": {
      "text/html": [
       "<div>\n",
       "<style scoped>\n",
       "    .dataframe tbody tr th:only-of-type {\n",
       "        vertical-align: middle;\n",
       "    }\n",
       "\n",
       "    .dataframe tbody tr th {\n",
       "        vertical-align: top;\n",
       "    }\n",
       "\n",
       "    .dataframe thead th {\n",
       "        text-align: right;\n",
       "    }\n",
       "</style>\n",
       "<table border=\"1\" class=\"dataframe\">\n",
       "  <thead>\n",
       "    <tr style=\"text-align: right;\">\n",
       "      <th></th>\n",
       "      <th>counts</th>\n",
       "      <th>length</th>\n",
       "    </tr>\n",
       "  </thead>\n",
       "  <tbody>\n",
       "    <tr>\n",
       "      <th>0</th>\n",
       "      <td>0</td>\n",
       "      <td>0</td>\n",
       "    </tr>\n",
       "    <tr>\n",
       "      <th>1</th>\n",
       "      <td>0</td>\n",
       "      <td>1</td>\n",
       "    </tr>\n",
       "    <tr>\n",
       "      <th>2</th>\n",
       "      <td>0</td>\n",
       "      <td>2</td>\n",
       "    </tr>\n",
       "    <tr>\n",
       "      <th>3</th>\n",
       "      <td>0</td>\n",
       "      <td>3</td>\n",
       "    </tr>\n",
       "    <tr>\n",
       "      <th>4</th>\n",
       "      <td>0</td>\n",
       "      <td>4</td>\n",
       "    </tr>\n",
       "    <tr>\n",
       "      <th>...</th>\n",
       "      <td>...</td>\n",
       "      <td>...</td>\n",
       "    </tr>\n",
       "    <tr>\n",
       "      <th>195</th>\n",
       "      <td>7</td>\n",
       "      <td>195</td>\n",
       "    </tr>\n",
       "    <tr>\n",
       "      <th>196</th>\n",
       "      <td>9</td>\n",
       "      <td>196</td>\n",
       "    </tr>\n",
       "    <tr>\n",
       "      <th>197</th>\n",
       "      <td>6</td>\n",
       "      <td>197</td>\n",
       "    </tr>\n",
       "    <tr>\n",
       "      <th>198</th>\n",
       "      <td>5</td>\n",
       "      <td>198</td>\n",
       "    </tr>\n",
       "    <tr>\n",
       "      <th>199</th>\n",
       "      <td>5</td>\n",
       "      <td>199</td>\n",
       "    </tr>\n",
       "  </tbody>\n",
       "</table>\n",
       "<p>200 rows × 2 columns</p>\n",
       "</div>"
      ],
      "text/plain": [
       "     counts  length\n",
       "0         0       0\n",
       "1         0       1\n",
       "2         0       2\n",
       "3         0       3\n",
       "4         0       4\n",
       "..      ...     ...\n",
       "195       7     195\n",
       "196       9     196\n",
       "197       6     197\n",
       "198       5     198\n",
       "199       5     199\n",
       "\n",
       "[200 rows x 2 columns]"
      ]
     },
     "execution_count": 27,
     "metadata": {},
     "output_type": "execute_result"
    }
   ],
   "source": [
    "df3 = pd.DataFrame(intbins[:maxlen])\n",
    "df3.insert(1, 'length', [x for x in range(len(smoodata))])\n",
    "df4 = df3.rename(columns={0: 'counts'})\n",
    "df4"
   ]
  },
  {
   "cell_type": "code",
   "execution_count": 28,
   "id": "66d58c74",
   "metadata": {},
   "outputs": [
    {
     "data": {
      "text/plain": [
       "<Axes: xlabel='length'>"
      ]
     },
     "execution_count": 28,
     "metadata": {},
     "output_type": "execute_result"
    },
    {
     "data": {
      "image/png": "[encoded data removed]",
      "text/plain": [
       "<Figure size 640x480 with 1 Axes>"
      ]
     },
     "metadata": {},
     "output_type": "display_data"
    }
   ],
   "source": [
    "df4.plot.bar(x='length', y='counts')"
   ]
  },
  {
   "cell_type": "code",
   "execution_count": 29,
   "id": "e72141eb",
   "metadata": {},
   "outputs": [
    {
     "data": {
      "text/plain": [
       "<Axes: xlabel='length'>"
      ]
     },
     "execution_count": 29,
     "metadata": {},
     "output_type": "execute_result"
    },
    {
     "data": {
      "image/png": "[encoded data removed]",
      "text/plain": [
       "<Figure size 640x480 with 1 Axes>"
      ]
     },
     "metadata": {},
     "output_type": "display_data"
    }
   ],
   "source": [
    "df2.plot.bar(x='length', y='counts')"
   ]
  },
  {
   "cell_type": "code",
   "execution_count": null,
   "id": "1515ae35",
   "metadata": {},
   "outputs": [],
   "source": []
  },
  {
   "cell_type": "code",
   "execution_count": null,
   "id": "6489f090",
   "metadata": {},
   "outputs": [],
   "source": []
  }
 ],
 "metadata": {
  "kernelspec": {
   "display_name": "Python 3 (ipykernel)",
   "language": "python",
   "name": "python3"
  },
  "language_info": {
   "codemirror_mode": {
    "name": "ipython",
    "version": 3
   },
   "file_extension": ".py",
   "mimetype": "text/x-python",
   "name": "python",
   "nbconvert_exporter": "python",
   "pygments_lexer": "ipython3",
   "version": "3.11.2"
  }
 },
 "nbformat": 4,
 "nbformat_minor": 5
}
